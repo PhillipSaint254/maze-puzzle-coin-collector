{
 "cells": [
  {
   "cell_type": "code",
   "execution_count": 144,
   "id": "db37c957",
   "metadata": {},
   "outputs": [],
   "source": [
    "def read_maze_from_file(file_path):\n",
    "    with open(file_path, 'r') as file:\n",
    "        rows = int(file.readline().strip())\n",
    "        cols = int(file.readline().strip())\n",
    "        maze = []\n",
    "        for line in file.readlines():\n",
    "            list_item = [item for item in list(line) if item!= '\\n']\n",
    "            list_item += [' ' for _ in range(5 - len(list_item))]\n",
    "            maze.append(list_item)\n",
    "    return maze, rows, cols"
   ]
  },
  {
   "cell_type": "code",
   "execution_count": 112,
   "id": "3cb43b27",
   "metadata": {},
   "outputs": [],
   "source": [
    "maze, rows, cols = read_maze_from_file('maze.txt')"
   ]
  },
  {
   "cell_type": "markdown",
   "id": "ed31571c",
   "metadata": {},
   "source": [
    "![task](https://github.com/PhillipSaint254/School-Fees-Payment-System/assets/75745682/f7c96626-969d-45a5-9476-fbe0523dd667)"
   ]
  },
  {
   "cell_type": "code",
   "execution_count": 148,
   "id": "788afc09",
   "metadata": {
    "scrolled": true
   },
   "outputs": [
    {
     "data": {
      "text/plain": [
       "6"
      ]
     },
     "execution_count": 148,
     "metadata": {},
     "output_type": "execute_result"
    }
   ],
   "source": [
    "def calculate_max_coins(maze, rows, cols):\n",
    "    data_points = [[0] * cols for i in range(rows)]\n",
    "    \n",
    "    for row in range(rows):\n",
    "        for col in range(cols):\n",
    "            if maze[row][col] == \"x\":\n",
    "                continue\n",
    "            \n",
    "            coins = int(maze[row][col]) if maze[row][col].isdigit() else 0\n",
    "            \n",
    "            if row > 0 and maze[row-1][col] != 'x':\n",
    "                data_points[row][col] = max(data_points[row][col], data_points[row-1][col] + coins)\n",
    "            if col > 0 and maze[row][col-1] != 'x':\n",
    "                data_points[row][col] = max(data_points[row][col], data_points[row][col-1] + coins)\n",
    "    if data_points[-1][-1] == 'x' or data_points[-1][-1] == 0:\n",
    "        return -1\n",
    "    return data_points[-1][-1]\n",
    "\n",
    "calculate_max_coins(maze, rows, cols)"
   ]
  },
  {
   "cell_type": "code",
   "execution_count": 157,
   "id": "f70a9c7d",
   "metadata": {},
   "outputs": [
    {
     "name": "stdout",
     "output_type": "stream",
     "text": [
      "[[-1, -1, -1, 0, -1], [-1, -1, -1, -1, -1], [-1, -1, -1, -1, -1], [-1, -1, -1, -1, -1], [-1, -1, -1, -1, -1]]\n",
      "[[-1, -1, -1, 0, 0], [-1, -1, -1, 2, 2], [-1, -1, -1, 2, -1], [-1, -1, -1, 2, -1], [-1, -1, -1, 2, -1]]\n",
      "[[-1, -1, -1, 0, 0], [-1, -1, -1, 2, 2], [-1, -1, -1, 2, 2], [-1, -1, -1, 2, -1], [-1, -1, -1, 2, -1]]\n",
      "[[-1, -1, -1, 0, 0], [-1, -1, -1, 2, 2], [-1, -1, -1, 2, 2], [-1, -1, -1, 2, -1], [-1, -1, -1, 2, 3]]\n"
     ]
    },
    {
     "data": {
      "text/plain": [
       "3"
      ]
     },
     "execution_count": 157,
     "metadata": {},
     "output_type": "execute_result"
    }
   ],
   "source": [
    "def calculate_max_coins(maze, startRow, startCol):\n",
    "    data_points=[[-1 for i in range(cols)] for j in range(rows)]\n",
    "    data_points[startRow][startCol] = int(maze[startRow][startCol]) if maze[startRow][startCol].isdigit() else 0\n",
    "    print(data_points)\n",
    "    \n",
    "    for col in range(startCol+1, cols):\n",
    "        if maze[startRow][col] == 'x':\n",
    "            data_points[startRow][col] = -1\n",
    "        else:\n",
    "            data_points[startRow][col] = data_points[startRow][col - 1] + (int(maze[startRow][col]) if maze[startRow][col].isdigit() else 0)\n",
    "            \n",
    "    for row in range(startRow+1, rows):\n",
    "        if maze[row][startCol] == 'x':\n",
    "            data_points[row][startCol] = -1\n",
    "        else:\n",
    "            data_points[row][startCol] = data_points[row - 1][startCol] + (int(maze[row][startCol]) if maze[row][startCol].isdigit() else 0)\n",
    "            \n",
    "    for row in range(startRow+1, rows):\n",
    "        for col in range(startCol+1, cols):\n",
    "            if maze[row][col] != 'x':\n",
    "                coins_from_top = data_points[row - 1][col] if data_points[row - 1][col] != -1 else -1\n",
    "                coins_from_left = data_points[row][col - 1] if data_points[row][col - 1] != -1 else -1\n",
    "#                 print(f\"coins_from_top {coins_from_top}\")\n",
    "#                 print(f\"coins_from_left {coins_from_left}\")\n",
    "                \n",
    "                if coins_from_top != -1 or coins_from_left != -1:\n",
    "                    data_points[row][col] = max(coins_from_top, coins_from_left) + (int(maze[row][col]) if maze[row][col].isdigit() else 0)\n",
    "                    print(data_points)\n",
    "                    \n",
    "    return data_points[-1][-1]\n",
    "\n",
    "calculate_max_coins(maze, 0, 3)"
   ]
  },
  {
   "cell_type": "code",
   "execution_count": 160,
   "id": "ba2ca878",
   "metadata": {},
   "outputs": [
    {
     "data": {
      "text/plain": [
       "5"
      ]
     },
     "execution_count": 160,
     "metadata": {},
     "output_type": "execute_result"
    }
   ],
   "source": [
    "rows"
   ]
  },
  {
   "cell_type": "code",
   "execution_count": 210,
   "id": "605ccf22",
   "metadata": {},
   "outputs": [
    {
     "name": "stdout",
     "output_type": "stream",
     "text": [
      "[[-1, -1, -1, -1, -1], [-1, -1, -1, -1, -1], [-1, -1, -1, -1, -1], [-1, -1, -1, -1, -1], [1, 1, 1, 1, 1]]\n"
     ]
    },
    {
     "data": {
      "text/plain": [
       "1"
      ]
     },
     "execution_count": 210,
     "metadata": {},
     "output_type": "execute_result"
    }
   ],
   "source": [
    "def bottom_up(maze, startRow, startCol):\n",
    "    data_points = [[-1 for _ in range(cols)] for _ in range(rows)]\n",
    "    data_points[-1][-1] = int(maze[-1][-1]) if maze[-1][-1].isdigit() else 0\n",
    "#     print(data_points)\n",
    "    \n",
    "    for col in range(cols - 2, startCol - 1, -1):\n",
    "        if maze[rows - 1][col] == 'x':\n",
    "            data_points[rows - 1][col] = -1\n",
    "        else:\n",
    "            data_points[rows - 1][col] = data_points[rows - 1][col + 1] + (int(maze[rows - 1][col]) if maze[rows - 1][col].isdigit() else 0)\n",
    "    \n",
    "    for row in range(rows - 2, startRow - 1, -1):\n",
    "        if maze[row][cols - 1] == 'x':\n",
    "            data_points[row][cols - 1] = -1\n",
    "        else:\n",
    "            data_points[row][cols - 1] = data_points[row + 1][cols - 1] + (int(maze[row][cols - 1]) if maze[row][cols - 1].isdigit() else 0)\n",
    "            \n",
    "#     print(data_points)\n",
    "    \n",
    "    for row in range(rows - 2, startRow - 1, -1):\n",
    "        for col in range(cols - 2, startCol - 1, -1):\n",
    "            if maze[row][col] != 'x':\n",
    "                coins_from_bottom = data_points[row + 1][col] if data_points[row + 1][col] != -1 else -1\n",
    "                coins_from_right = data_points[row][col + 1] if data_points[row][col + 1] != -1 else -1\n",
    "                if coins_from_bottom != -1 or coins_from_right != -1:\n",
    "                    data_points[row][col] = max(coins_from_bottom, coins_from_right) + (int(maze[row][col]) if maze[row][col].isdigit() else 0)\n",
    "                 \n",
    "    print(data_points)\n",
    "    return data_points[startRow][startCol] if data_points[startRow][startCol] > 0 else -1\n"
   ]
  },
  {
   "cell_type": "code",
   "execution_count": 235,
   "id": "821a99eb",
   "metadata": {},
   "outputs": [
    {
     "data": {
      "text/plain": [
       "[[' ', '3', ' ', ' ', ' '],\n",
       " [' ', ' ', ' ', '2', ' '],\n",
       " ['2', '6', 'x', ' ', ' '],\n",
       " [' ', 'x', ' ', ' ', 'x'],\n",
       " [' ', ' ', ' ', ' ', '1']]"
      ]
     },
     "execution_count": 235,
     "metadata": {},
     "output_type": "execute_result"
    }
   ],
   "source": [
    "maze"
   ]
  },
  {
   "cell_type": "code",
   "execution_count": 236,
   "id": "a4ea5c32",
   "metadata": {},
   "outputs": [
    {
     "name": "stdout",
     "output_type": "stream",
     "text": [
      "[[-1, -1, -1, -1, -1], [-1, -1, -1, -1, -1], [-1, -1, -1, -1, -1], [-1, -1, -1, -1, -1], [-1, -1, -1, -1, 1]]\n"
     ]
    },
    {
     "data": {
      "text/plain": [
       "-1"
      ]
     },
     "execution_count": 236,
     "metadata": {},
     "output_type": "execute_result"
    }
   ],
   "source": [
    "bottom_up(maze, 0, 4)"
   ]
  }
 ],
 "metadata": {
  "kernelspec": {
   "display_name": "Python 3 (ipykernel)",
   "language": "python",
   "name": "python3"
  },
  "language_info": {
   "codemirror_mode": {
    "name": "ipython",
    "version": 3
   },
   "file_extension": ".py",
   "mimetype": "text/x-python",
   "name": "python",
   "nbconvert_exporter": "python",
   "pygments_lexer": "ipython3",
   "version": "3.11.5"
  }
 },
 "nbformat": 4,
 "nbformat_minor": 5
}
