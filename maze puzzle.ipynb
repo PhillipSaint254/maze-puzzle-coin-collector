{
 "cells": [
  {
   "cell_type": "code",
   "execution_count": 136,
   "id": "db37c957",
   "metadata": {},
   "outputs": [],
   "source": [
    "def read_maze_from_file(file_path):\n",
    "    with open(file_path, 'r') as file:\n",
    "        rows = int(file.readline().strip())\n",
    "        cols = int(file.readline().strip())\n",
    "        maze = []\n",
    "        for line in file.readlines():\n",
    "            list_item = [item for item in list(line) if item!= '\\n']\n",
    "            list_item += [' ' for _ in range(5 - len(list_item))]\n",
    "            maze.append(list_item)\n",
    "    return maze, rows, cols"
   ]
  },
  {
   "cell_type": "code",
   "execution_count": 137,
   "id": "3cb43b27",
   "metadata": {},
   "outputs": [],
   "source": [
    "maze, rows, cols = read_maze_from_file('maze.txt')"
   ]
  },
  {
   "cell_type": "markdown",
   "id": "ed31571c",
   "metadata": {},
   "source": [
    "![task](https://github.com/PhillipSaint254/School-Fees-Payment-System/assets/75745682/f7c96626-969d-45a5-9476-fbe0523dd667)"
   ]
  },
  {
   "cell_type": "code",
   "execution_count": 138,
   "id": "788afc09",
   "metadata": {
    "scrolled": true
   },
   "outputs": [
    {
     "data": {
      "text/plain": [
       "6"
      ]
     },
     "execution_count": 138,
     "metadata": {},
     "output_type": "execute_result"
    }
   ],
   "source": [
    "def calculate_max_coins(maze, rows, cols):\n",
    "    data_points = [[0] * cols for i in range(rows)]\n",
    "    \n",
    "    for row in range(rows):\n",
    "        for col in range(cols):\n",
    "            if maze[row][col] == \"x\":\n",
    "                continue\n",
    "            \n",
    "            coins = int(maze[row][col]) if maze[row][col].isdigit() else 0\n",
    "            \n",
    "            if row > 0 and maze[row-1][col] != 'x':\n",
    "                data_points[row][col] = max(data_points[row][col], data_points[row-1][col] + coins)\n",
    "            if col > 0 and maze[row][col-1] != 'x':\n",
    "                data_points[row][col] = max(data_points[row][col], data_points[row][col-1] + coins)\n",
    "    if data_points[-1][-1] == 'x' or data_points[-1][-1] == 0:\n",
    "        return -1\n",
    "    return data_points[-1][-1]\n",
    "\n",
    "calculate_max_coins(maze, rows, cols)"
   ]
  },
  {
   "cell_type": "code",
   "execution_count": null,
   "id": "f39f76f4",
   "metadata": {},
   "outputs": [],
   "source": []
  }
 ],
 "metadata": {
  "kernelspec": {
   "display_name": "Python 3 (ipykernel)",
   "language": "python",
   "name": "python3"
  },
  "language_info": {
   "codemirror_mode": {
    "name": "ipython",
    "version": 3
   },
   "file_extension": ".py",
   "mimetype": "text/x-python",
   "name": "python",
   "nbconvert_exporter": "python",
   "pygments_lexer": "ipython3",
   "version": "3.11.5"
  }
 },
 "nbformat": 4,
 "nbformat_minor": 5
}
